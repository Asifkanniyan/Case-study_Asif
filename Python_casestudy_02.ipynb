{
  "nbformat": 4,
  "nbformat_minor": 0,
  "metadata": {
    "colab": {
      "provenance": []
    },
    "kernelspec": {
      "name": "python3",
      "display_name": "Python 3"
    },
    "language_info": {
      "name": "python"
    }
  },
  "cells": [
    {
      "cell_type": "code",
      "source": [
        "# Python casestudy - Question 1"
      ],
      "metadata": {
        "id": "xOaCKi16mMle"
      },
      "execution_count": null,
      "outputs": []
    },
    {
      "cell_type": "code",
      "execution_count": null,
      "metadata": {
        "id": "mRSdjgTpWcpa",
        "colab": {
          "base_uri": "https://localhost:8080/"
        },
        "outputId": "eb5a6fe9-b23d-475b-9f9b-ad668083ce3d"
      },
      "outputs": [
        {
          "output_type": "stream",
          "name": "stdout",
          "text": [
            "Enter the 1st items to purchase:Wheat\n",
            "Enter the weight of the 1st items (Kgs):4\n",
            "Enter the 2nd items to purchase:Banana\n",
            "Enter the weight of the 2nd items (Kgs):2\n",
            "Enter the 3rd items to purchase:Rice\n",
            "Enter the weight of the 3rd items (Kgs):6\n",
            "\n",
            "\n",
            "SI.No     Item Name    Unit Price    Qty      Total Price\n",
            "-------------------------------------------------------------------\n",
            "1      Wheat           30            4               120.0\n",
            "2      Banana           15            2               30.0\n",
            "3      Rice           25            6               150.0\n",
            "------------------------------------------------------------------\n",
            "Grand Total =                                     300.0\n",
            "------------------------------------------------------------------\n"
          ]
        }
      ],
      "source": [
        "items_dict = {'Apple':50,'Banana':15,'Orange':48,'Sugar':45,'Rice':25,'Salt':10,'Wheat':30}\n",
        "\n",
        "items1 = input(\"Enter the 1st items to purchase:\")\n",
        "Qty1 = input(\"Enter the weight of the 1st items (Kgs):\")\n",
        "items2 = input(\"Enter the 2nd items to purchase:\")\n",
        "Qty2 = input(\"Enter the weight of the 2nd items (Kgs):\")\n",
        "items3 = input(\"Enter the 3rd items to purchase:\")\n",
        "Qty3 = input(\"Enter the weight of the 3rd items (Kgs):\")\n",
        "\n",
        "purchase_dict = {items1:Qty1,items2:Qty2,items3:Qty3}\n",
        "\n",
        "print(\"\\n\\nSI.No\",end=\"     \")\n",
        "print(\"Item Name\",end=\"    \")\n",
        "print(\"Unit Price\",end=\"    \")\n",
        "print(\"Qty\",end=\"      \")\n",
        "print(\"Total Price\")\n",
        "print(\"-------------------------------------------------------------------\")\n",
        "print(1,end=\"      \")\n",
        "print(items1,end=\"           \")\n",
        "print(items_dict[items1],end=\"            \")\n",
        "print(Qty1,end=\"               \")\n",
        "print(float(Qty1)*items_dict[items1])\n",
        "print(2,end=\"      \")\n",
        "print(items2,end=\"           \")\n",
        "print(items_dict[items2],end=\"            \")\n",
        "print(Qty2,end=\"               \")\n",
        "print(float(Qty2)*items_dict[items2])\n",
        "print(3,end=\"      \")\n",
        "print(items3,end=\"           \")\n",
        "print(items_dict[items3],end=\"            \")\n",
        "print(Qty3,end=\"               \")\n",
        "print(float(Qty3)*items_dict[items3])\n",
        "print(\"------------------------------------------------------------------\")\n",
        "print(\"Grand Total =                                    \",float(Qty1)*items_dict[items1]+float(Qty2)*items_dict[items2]+float(Qty3)*items_dict[items3])\n",
        "print(\"------------------------------------------------------------------\")\n"
      ]
    },
    {
      "cell_type": "code",
      "source": [
        "#Python casestudy - Question 2"
      ],
      "metadata": {
        "id": "l623YilnnXre"
      },
      "execution_count": null,
      "outputs": []
    },
    {
      "cell_type": "code",
      "source": [
        "Marks = [90,85,95,84,90]\n",
        "Total_Marks = Marks[0]+Marks[1]+Marks[2]+Marks[3]+Marks[4]\n",
        "Avg_Marks = Total_Marks/5\n",
        "print(\"Average Mark is:   \",Avg_Marks)\n",
        "if Avg_Marks >90:\n",
        "  print(\"Student Grade is : Grade A\")\n",
        "elif Avg_Marks >= 70:\n",
        "  print(\"Student Grade is : Grade B\")\n",
        "elif Avg_Marks >= 50:\n",
        "  print(\"Student Grade is : Grade C\")\n",
        "else:\n",
        "  print(\"Student Grade is : Grade D\")"
      ],
      "metadata": {
        "colab": {
          "base_uri": "https://localhost:8080/"
        },
        "id": "7-Fr1wJsnalI",
        "outputId": "cb0cb189-8e00-4524-a2f3-885b0d90f627"
      },
      "execution_count": null,
      "outputs": [
        {
          "output_type": "stream",
          "name": "stdout",
          "text": [
            "Average Mark is:    88.8\n",
            "Student Grade is : Grade B\n"
          ]
        }
      ]
    },
    {
      "cell_type": "code",
      "source": [
        "\n",
        "English = input(\"Enter the English Mark:\")\n",
        "Maths = input(\"Enter the Maths Mark:\")\n",
        "Science = input(\"Enter the Science Mark:\")\n",
        "Social = input(\"Enter the Social Mark:\")\n",
        "Computer = input(\"Enter the Computer Mark:\")\n",
        "Marks=[English,Maths,Science,Social,Computer]\n",
        "print(Marks)\n",
        "Total_Marks = int(English)+int(Maths)+int(Science)+int(Social)+int(Computer)\n",
        "Avg_Marks = Total_Marks/5\n",
        "print(\"\\n\\nAverage Mark is:   \",Avg_Marks)\n",
        "if Avg_Marks >90:\n",
        "  print(\"Student Grade is : Grade A\")\n",
        "elif Avg_Marks >= 70:\n",
        "  print(\"St8udent Grade is : Grade B\")\n",
        "elif Avg_Marks >= 50:\n",
        "  print(\"Student Grade is : Grade C\")\n",
        "else:\n",
        "  print(\"Student Grade is : Grade D\")"
      ],
      "metadata": {
        "colab": {
          "base_uri": "https://localhost:8080/"
        },
        "id": "lSGJOuKIrk0F",
        "outputId": "4e499257-ac5f-4e27-a699-ac6701be6cf0"
      },
      "execution_count": null,
      "outputs": [
        {
          "output_type": "stream",
          "name": "stdout",
          "text": [
            "Enter the English Mark:55\n",
            "Enter the Maths Mark:65\n",
            "Enter the Science Mark:75\n",
            "Enter the Social Mark:5\n",
            "Enter the Computer Mark:95\n",
            "['55', '65', '75', '5', '95']\n",
            "\n",
            "\n",
            "Average Mark is:    59.0\n",
            "Student Grade is : Grade C\n"
          ]
        }
      ]
    },
    {
      "cell_type": "code",
      "source": [
        "#Python casestudy - Question 3"
      ],
      "metadata": {
        "id": "yON5knp_tFmA"
      },
      "execution_count": null,
      "outputs": []
    },
    {
      "cell_type": "code",
      "source": [
        "Available_seats = [1,2,3,4,5,6,7,8,9,10,21,22,23,25,35,38,47,50]\n",
        "print(Available_seats)\n",
        "Book_seat = input(\"\\nEnter the seat number for booking:\")\n",
        "i=0\n",
        "while i < len(Available_seats):\n",
        "  if Available_seats[i] == int(Book_seat):\n",
        "    Available_seats.pop(i)\n",
        "    print(\"\\n-----Your booking has been confirmed-----\")\n",
        "    break\n",
        "  else:\n",
        "    i += 1\n",
        "if i >= len(Available_seats):\n",
        "  print(\"\\nEntered seat is not available, please select another seat\")\n",
        "print(\"\\nNow Available seats are :   \",Available_seats)\n",
        "\n",
        "\n"
      ],
      "metadata": {
        "colab": {
          "base_uri": "https://localhost:8080/"
        },
        "id": "tsW7OI44tJpa",
        "outputId": "b6fc0641-3f3f-44f6-b6de-0addf2969af9"
      },
      "execution_count": null,
      "outputs": [
        {
          "output_type": "stream",
          "name": "stdout",
          "text": [
            "[1, 2, 3, 4, 5, 6, 7, 8, 9, 10, 21, 22, 23, 25, 35, 38, 47, 50]\n",
            "\n",
            "Enter the seat number for booking:1\n",
            "\n",
            "-----Your booking has been confirmed-----\n",
            "\n",
            "Now Available seats are :    [2, 3, 4, 5, 6, 7, 8, 9, 10, 21, 22, 23, 25, 35, 38, 47, 50]\n"
          ]
        }
      ]
    }
  ]
}